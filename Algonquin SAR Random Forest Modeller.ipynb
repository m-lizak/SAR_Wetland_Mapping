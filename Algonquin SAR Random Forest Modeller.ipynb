{
 "cells": [
  {
   "cell_type": "markdown",
   "id": "71969607-fbf2-470b-ac34-c4ce8093ef85",
   "metadata": {},
   "source": [
    "**Random Forest Model**"
   ]
  },
  {
   "cell_type": "markdown",
   "id": "56f6dfca-e3a4-4b80-b144-b42b5c3ec223",
   "metadata": {},
   "source": [
    "**This script uses the rasterio and subprocess modules to warp a raster image specified by 'image_ds_path' to a new extent, coordinate reference system (CRS), and resolution. It then saves the warped image as 'trainingAlgonquinWarp.tif' using GDAL's gdalwarp command-line utility.**"
   ]
  },
  {
   "cell_type": "code",
   "execution_count": 1,
   "id": "ffeab39c-b320-4a5e-a458-8db30bccb9e4",
   "metadata": {},
   "outputs": [
    {
     "name": "stdout",
     "output_type": "stream",
     "text": [
      "Creating output file that is 4330P x 3687L.\n",
      "Processing trainingAlgonquin.tif [1/1] : 0Using internal nodata values (e.g. -999) for image trainingAlgonquin.tif.\n",
      "Copying nodata values from source trainingAlgonquin.tif to destination trainingAlgonquinWarp.tif.\n",
      "...10...20...30...40...50...60...70...80...90...100 - done.\n",
      "4330 3687\n"
     ]
    }
   ],
   "source": [
    "import rasterio\n",
    "import subprocess\n",
    "import joblib\n",
    "\n",
    "# Read in our image and training / testing samples\n",
    "training_ds_original = \"trainingAlgonquin.tif\" # Original training dataset path\n",
    "training_ds_path = \"trainingAlgonquinWarp.tif\" # Desired warped training ds path\n",
    "\n",
    "image_ds_path = \"/Users/maciej/Library/CloudStorage/OneDrive-UniversityofGuelph/Grad School/Winter 2024/GEOG 6550/Project Folder/Updated RCM Imagery and Decompositions/Image Stacks/S1 & Terrain/S1_Terrain.tif\"\n",
    "model_desc = \"S1_Terrain\" #Update with naming convention for model outputs\n",
    "\n",
    "# Load the trained Random Forest model\n",
    "rf = joblib.load(f\"{model_desc}_model.pkl\")\n",
    "\n",
    "target_file = image_ds_path\n",
    "with rasterio.open(target_file) as src:\n",
    "    profile = src.profile\n",
    "\n",
    "aff = profile['transform']\n",
    "width = profile['width']\n",
    "height = profile['height']\n",
    "crs = profile['crs']['init']\n",
    "\n",
    "xmin = aff[2]\n",
    "xmax = aff[2] + width*aff[0]\n",
    "ymax = aff[5]\n",
    "ymin = aff[5] + height*aff[4]\n",
    "\n",
    "\n",
    "command = [\n",
    "    'gdalwarp',\n",
    "    '-te', str(xmin), str(ymin), str(xmax), str(ymax),\n",
    "    '-te_srs', crs,\n",
    "    '-t_srs', crs,\n",
    "    '-tr', '30', '30',\n",
    "    '-tap',\n",
    "    '-co', 'COMPRESS=LZW',\n",
    "    '-overwrite',\n",
    "    training_ds_original,\n",
    "    training_ds_path\n",
    "]\n",
    "\n",
    "\n",
    "subprocess.call(command)\n",
    "\n",
    "print(width, height)\n"
   ]
  },
  {
   "cell_type": "markdown",
   "id": "ad16c47b-5804-4b19-874c-76ddb45eec87",
   "metadata": {},
   "source": [
    "**This script prepares raster data for further analysis by reading both the image and training data into NumPy arrays**"
   ]
  },
  {
   "cell_type": "code",
   "execution_count": 2,
   "id": "bd3ab695-c1b9-45b9-83d2-c45d022e9d4e",
   "metadata": {},
   "outputs": [
    {
     "name": "stdout",
     "output_type": "stream",
     "text": [
      "(3687, 4330)\n",
      "(3687, 4330, 27)\n",
      "Height: 3687 Width 4330 Depth: 27\n"
     ]
    }
   ],
   "source": [
    "# Import Python 3's print function and division\n",
    "from __future__ import print_function, division\n",
    " \n",
    "# Import GDAL, NumPy, and matplotlib\n",
    "from osgeo import gdal, gdal_array\n",
    "import numpy as np\n",
    "import matplotlib.pyplot as plt\n",
    "%matplotlib inline\n",
    "\n",
    "# Tell GDAL to throw Python exceptions, and register all drivers\n",
    "gdal.UseExceptions()\n",
    "gdal.AllRegister()\n",
    "\n",
    "img_ds = gdal.Open(image_ds_path, gdal.GA_ReadOnly)     #Image Dataset\n",
    "dataset = gdal.Open(training_ds_path, gdal.GA_ReadOnly) #Training Dataset\n",
    "\n",
    "\n",
    "img = np.zeros((img_ds.RasterYSize, img_ds.RasterXSize, img_ds.RasterCount),\n",
    "               gdal_array.GDALTypeCodeToNumericTypeCode(img_ds.GetRasterBand(1).DataType))\n",
    "for b in range(img.shape[2]):\n",
    "    img[:, :, b] = img_ds.GetRasterBand(b + 1).ReadAsArray()\n",
    " \n",
    "ds = dataset.GetRasterBand(1).ReadAsArray().astype(np.uint8)\n",
    "\n",
    "\n",
    "print(ds.shape)\n",
    "print(img.shape)\n",
    "\n",
    "height = img.shape[0]\n",
    "width = img.shape[1]\n",
    "depth = img.shape[2]\n",
    "print(\"Height:\", height, \"Width\", width, \"Depth:\", depth)\n",
    " "
   ]
  },
  {
   "cell_type": "code",
   "execution_count": null,
   "id": "f7989b3e-4561-49a3-803f-51a7b36d2394",
   "metadata": {},
   "outputs": [],
   "source": []
  },
  {
   "cell_type": "markdown",
   "id": "8099c438-e0c3-4386-866d-a52364508655",
   "metadata": {},
   "source": [
    "**This script performs stratified random sampling to split a dataset into training and test subsets while maintaining class distribution. It then uses the `train_test_split` function from scikit-learn to split the sampled data into training and testing subsets, ensuring reproducibility by setting the random seed `SEED`.**\n"
   ]
  },
  {
   "cell_type": "code",
   "execution_count": 3,
   "id": "0648417f-2f64-41dd-bc0a-9f606f82afe7",
   "metadata": {},
   "outputs": [
    {
     "name": "stdout",
     "output_type": "stream",
     "text": [
      "Shape of X: (15964710, 27)\n",
      "Shape of y: (15964710,)\n"
     ]
    }
   ],
   "source": [
    "# Import train_test_split function\n",
    "from sklearn.model_selection import train_test_split\n",
    "# Import scikit-learn metrics module for accuracy calculation\n",
    "from sklearn import metrics\n",
    "# Import the classification report and accuracies\n",
    "from sklearn.metrics import classification_report, accuracy_score\n",
    "import numpy as np\n",
    "\n",
    "# Set seed for reproducibility\n",
    "SEED = np.random.seed(1234)  # Set the seed using numpy\n",
    "\n",
    "X = img.reshape((width*height, depth))\n",
    "y = ds.flatten()\n",
    "\n",
    "# Split dataset into training set and test set\n",
    "print(\"Shape of X:\", X.shape)\n",
    "print(\"Shape of y:\", y.shape)\n",
    "\n",
    "# Stratified random sampling\n",
    "fraction = 0.2          #Define what fraction of all samples should be used for training/validation\n",
    "min_samples = 2000      #Define the minimum # of sample to be used by any given class\n",
    "Xsample = []\n",
    "ysample = []\n",
    "for i in range(1, 9):  #We ignore class 0 here which is noData\n",
    "    Ntotal = (y == i).sum()\n",
    "    Nsample = max(int(fraction*Ntotal), min_samples)\n",
    "    idx = np.where(y == i)[0]\n",
    "    s_idx = np.random.choice(idx, Nsample)\n",
    "    Xsample.append(X[s_idx,:])\n",
    "    ysample.append(np.repeat(i, Nsample))\n",
    "\n",
    "Xsample = np.vstack(Xsample)\n",
    "ysample = np.hstack(ysample)\n",
    "\n",
    "# Split the data with the seeded random_state\n",
    "X_train, X_test, y_train, y_test = train_test_split(Xsample, ysample, test_size=0.3, random_state=SEED) # 70% training and 30% test\n"
   ]
  },
  {
   "cell_type": "code",
   "execution_count": null,
   "id": "f0b63cc8-b358-47ef-929b-2c672d2e164c",
   "metadata": {},
   "outputs": [],
   "source": [
    "np.unique(y_train)      #Prints the number of unique classes found within the sample subset"
   ]
  },
  {
   "cell_type": "markdown",
   "id": "e0f19968-add5-4424-ab3e-b094c16416ce",
   "metadata": {},
   "source": [
    "**The randomForest model is fit to the training data and saved**"
   ]
  },
  {
   "cell_type": "code",
   "execution_count": null,
   "id": "3fa4f46e-e6bc-4ae1-bf14-195f9595bd03",
   "metadata": {},
   "outputs": [],
   "source": [
    "from sklearn.ensemble import RandomForestClassifier\n",
    "import joblib\n",
    "\n",
    "# User-defined number of decision trees\n",
    "trees = 500  # Default = 100, can be changed\n",
    "\n",
    "# Initialize our model with the specified hyperparameters\n",
    "rf = RandomForestClassifier(n_estimators=trees, n_jobs=-2, verbose=3) # specify trees, use all but one core, display progress\n",
    "\n",
    "# Fit our model to training data\n",
    "rf = rf.fit(X_train, y_train)\n",
    "\n",
    "# Save the trained model to a file\n",
    "joblib.dump(rf, f\"{model_desc}_model.pkl\")\n"
   ]
  },
  {
   "cell_type": "markdown",
   "id": "504e5aa6-4b54-4dc1-9ece-2cfa2962a376",
   "metadata": {},
   "source": [
    "**Model Stats**"
   ]
  },
  {
   "cell_type": "code",
   "execution_count": null,
   "id": "e2aa6bfe-a947-4b3d-b640-6969509c720a",
   "metadata": {},
   "outputs": [],
   "source": [
    "from sklearn.metrics import precision_score, recall_score, f1_score\n",
    "\n",
    "y_pred = rf.predict(X_test)\n",
    "\n",
    "print('Precision: ', precision_score(y_test, y_pred, average = None))\n",
    "print('\\nRecall: ', recall_score(y_test, y_pred, average = None))\n",
    "print('\\nF1: ',f1_score(y_test, y_pred, average = None))"
   ]
  },
  {
   "cell_type": "code",
   "execution_count": null,
   "id": "9bd7356b-1ab1-4e5a-8d4f-7cb263d35352",
   "metadata": {},
   "outputs": [],
   "source": []
  },
  {
   "cell_type": "code",
   "execution_count": null,
   "id": "7409f852-ad3f-4e55-9d1d-3f95750a2abc",
   "metadata": {},
   "outputs": [],
   "source": [
    "from sklearn.metrics import precision_score, recall_score, f1_score, accuracy_score, roc_auc_score\n",
    "import numpy as np\n",
    "import matplotlib.pyplot as plt\n",
    "\n",
    "# Calculate precision, recall, F1 scores, and AUC for each class\n",
    "precision_scores = precision_score(y_test, y_pred, average=None)\n",
    "recall_scores = recall_score(y_test, y_pred, average=None)\n",
    "f1_scores = f1_score(y_test, y_pred, average=None)\n",
    "auc_scores = [roc_auc_score((y_test == i).astype(int), (y_pred == i).astype(int)) for i in range(1, 9)]\n",
    "\n",
    "# Calculate overall accuracy\n",
    "overall_accuracy = accuracy_score(y_test, y_pred)\n",
    "overall_accuracy = round(overall_accuracy, 4)\n",
    "\n",
    "# Define class names\n",
    "class_names = ['Fen', 'Swamp', 'Marsh', 'Bog', 'Open Water', 'Forest', 'Vegetated Land', 'Barren Land']\n",
    "\n",
    "# Create bar plots\n",
    "plt.figure(figsize=(12, 8))\n",
    "plt.bar(np.arange(len(class_names)) - 0.22, precision_scores, width=0.15, label=\"Precision (Producer's Accuracy)\", color='skyblue', edgecolor='black')\n",
    "plt.bar(np.arange(len(class_names)) - 0.07, recall_scores, width=0.15, label=\"Recall (User's Accuracy)\", color='lightgreen', edgecolor='black')\n",
    "plt.bar(np.arange(len(class_names)) + 0.08, f1_scores, width=0.15, label='F1 Score', color='orange', edgecolor='black')\n",
    "plt.bar(np.arange(len(class_names)) + 0.23, auc_scores, width=0.15, label='AUC', color='red', edgecolor='black')\n",
    "plt.axhline(overall_accuracy, color='black', linestyle='--', label=f'Overall Accuracy ({overall_accuracy})')\n",
    "plt.xticks(range(len(class_names)), class_names, rotation=45, ha='right')\n",
    "plt.xlabel('Class', fontsize=12, weight='bold')\n",
    "plt.ylabel('Score', fontsize=12, weight='bold')\n",
    "plt.title(f'Precision, Recall, F1 Score, AUC, and OA with {model_desc} ({trees} Trees)', fontsize=14, weight='bold')\n",
    "plt.legend(loc='upper center', bbox_to_anchor=(0.5, -0.15), shadow=True, ncol=2)\n",
    "\n",
    "# Set y-axis grid every 0.1\n",
    "plt.yticks(np.arange(0, 1.1, 0.1))\n",
    "\n",
    "# Add y-axis grid with subdivisions\n",
    "plt.grid(axis='y', which='major', color='gray', linestyle='--', linewidth=0.5)\n",
    "\n",
    "# Save the figure\n",
    "plt.savefig(f'Figures/{model_desc}_Bargraph.png', bbox_inches='tight')  # Adjust the filename and path as needed\n",
    "\n",
    "plt.show()\n"
   ]
  },
  {
   "cell_type": "markdown",
   "id": "0890d37e-fa76-45e9-8679-02707b8a92ba",
   "metadata": {},
   "source": [
    "**Confusion Matrix Creation**"
   ]
  },
  {
   "cell_type": "code",
   "execution_count": null,
   "id": "c2c22060-63b4-4d47-bc3f-94420ba29021",
   "metadata": {},
   "outputs": [],
   "source": [
    "from sklearn.metrics import confusion_matrix\n",
    "import matplotlib.pyplot as plt\n",
    "import seaborn as sns\n",
    "\n",
    "# Calculate confusion matrix\n",
    "conf_matrix = confusion_matrix(y_test, y_pred)\n",
    "\n",
    "# Define class names\n",
    "class_names = ['Fen', 'Swamp', 'Marsh', 'Bog', 'Open Water', 'Forest', 'Vegetated Land', 'Barren Land']\n",
    "\n",
    "# Plot confusion matrix\n",
    "plt.figure(figsize=(12, 10))\n",
    "ax = sns.heatmap(conf_matrix, annot=True, fmt='d', cmap='Blues', \n",
    "                 xticklabels=class_names, yticklabels=class_names, \n",
    "                 annot_kws={\"size\": 12, \"weight\": \"bold\"}, cbar=False)\n",
    "plt.xlabel('Predicted', fontsize=12, weight='bold')\n",
    "plt.ylabel('Actual', fontsize=12, weight='bold')\n",
    "plt.title(f'Confusion Matrix with {model_desc} ({trees} Trees)', fontsize=14, weight='bold')\n",
    "plt.xticks(rotation=45, ha='right')\n",
    "plt.yticks(rotation=0)\n",
    "\n",
    "# Add color scale bar\n",
    "cbar = ax.figure.colorbar(ax.collections[0], ax=ax, location='right', pad=0.05)\n",
    "cbar.set_label('Number of Instances', fontsize=12, weight='bold')\n",
    "\n",
    "# Save the figure\n",
    "plt.savefig(f'Figures/{model_desc}_Matrix.png', bbox_inches='tight')  # Adjust the filename and path as needed\n",
    "\n",
    "plt.show()"
   ]
  },
  {
   "cell_type": "code",
   "execution_count": null,
   "id": "73398225-2035-4ef3-bc70-34a0b50196a3",
   "metadata": {},
   "outputs": [],
   "source": []
  },
  {
   "cell_type": "markdown",
   "id": "d7b7e6da-37ff-488a-9a77-34509cd67a1f",
   "metadata": {},
   "source": [
    "**The ROC curve plots the true positive rate (sensitivity) against the false positive rate (1-specificity) for various classification thresholds. It illustrates how well the classifier can distinguish between positive instances and negative instances across different thresholds. Can be used to assess discriminative power and overall performance.**"
   ]
  },
  {
   "cell_type": "markdown",
   "id": "bfdab476-dabb-4a13-8cb7-293eb78e8ad9",
   "metadata": {},
   "source": [
    "**Display feature importances**"
   ]
  },
  {
   "cell_type": "code",
   "execution_count": 4,
   "id": "cf0caf83-a2ed-4639-9a49-f9eb283b4029",
   "metadata": {},
   "outputs": [
    {
     "data": {
      "image/png": "[encoded data removed]",
      "text/plain": [
       "<Figure size 1200x600 with 1 Axes>"
      ]
     },
     "metadata": {},
     "output_type": "display_data"
    }
   ],
   "source": [
    "from sklearn.ensemble import RandomForestClassifier\n",
    "import rasterio\n",
    "import joblib\n",
    "import matplotlib.pyplot as plt\n",
    "\n",
    "# Get feature importances from the trained model\n",
    "importances = rf.feature_importances_\n",
    "\n",
    "# Open the raster dataset to obtain band names\n",
    "with rasterio.open(image_ds_path) as dataset:\n",
    "    # Read the band names\n",
    "    band_names = dataset.descriptions\n",
    "\n",
    "# Get the number of bands\n",
    "num_bands = len(band_names)\n",
    "\n",
    "# Define the bar width to create some padding\n",
    "bar_width = 0.8\n",
    "\n",
    "# Plot feature importances with band names as labels\n",
    "plt.figure(figsize=(12, 6))\n",
    "bars = plt.bar(range(num_bands), importances, align='center', color='lightblue', edgecolor='black', width=bar_width)\n",
    "\n",
    "# Highlight the top 5 bar features in red and bold the label text\n",
    "top_indices = importances.argsort()[-5:][::-1]\n",
    "for i, bar in enumerate(bars):\n",
    "    if i in top_indices:\n",
    "        bar.set_color('red')\n",
    "        bar.set_edgecolor('black')\n",
    "        plt.xticks(range(num_bands), band_names, rotation=45, ha='right', fontsize=8)  # Resetting tick labels\n",
    "    \n",
    "# Bold the labels for the top 5 bands\n",
    "plt.xticks(range(num_bands), band_names, rotation=45, ha='right', fontsize=8)\n",
    "for i, tick in enumerate(plt.gca().get_xticklabels()):\n",
    "    if i in top_indices:\n",
    "        tick.set_weight('bold')  # Bold the label text for top 5 bands\n",
    "\n",
    "# Add gridlines\n",
    "plt.grid(axis='y', linestyle='--', alpha=0.5)\n",
    "\n",
    "# Set x-axis label, y-axis label, and title\n",
    "plt.xlabel('Band')\n",
    "plt.ylabel('Importance')\n",
    "plt.title(f'Feature Importances for {model_desc} (500 Trees)')\n",
    "\n",
    "# Show the plot\n",
    "plt.tight_layout()\n",
    "\n",
    "# Save the figure\n",
    "plt.savefig(f'Figures/{model_desc}_FeatureImportances.png', bbox_inches='tight')  # Adjust the filename and path as needed\n",
    "\n",
    "plt.show()\n"
   ]
  },
  {
   "cell_type": "markdown",
   "id": "00eb4b8f-c66c-4537-af21-6f096ea8242c",
   "metadata": {},
   "source": [
    "**Create a classified .tif**"
   ]
  },
  {
   "cell_type": "code",
   "execution_count": null,
   "id": "f89bb495-b0b1-4f0b-a0a4-2f37aaecbd5c",
   "metadata": {},
   "outputs": [],
   "source": [
    "covariate_image_file = image_ds_path\n",
    "with rasterio.open(covariate_image_file) as src:\n",
    "    output_meta = src.profile\n",
    "\n",
    "output_meta.update(count = 1, dtype = np.uint8, nodata = 255, compress = 'lzw')\n",
    "\n",
    "output_classified_file = f\"{model_desc}_Classified.tif\"\n",
    "\n",
    "def predict_row(row):\n",
    "    w = ((row,row+1), (None, None))\n",
    "    with rasterio.open(covariate_image_file) as src:\n",
    "        nodata = src.profile['nodata']\n",
    "        X = src.read(window = w)[:,0,:]\n",
    "    y_pred = rf.predict(X.T)\n",
    "    mask = np.where((X == nodata).any(axis = 0))\n",
    "    y_pred[mask] = 255\n",
    "    \n",
    "    return y_pred\n",
    "\n",
    "\n",
    "out_ds = rasterio.open(output_classified_file, \"w\", **output_meta)\n",
    "\n",
    "try:\n",
    "    print(f\"Predicting {output_meta['height']} rows:\", flush = True)\n",
    "    for row in range(output_meta['height']):\n",
    "        if row % 100 == 0:\n",
    "            print(row, \"...\", sep = '', end = '', flush = True)\n",
    "        y_pred = predict_row(row).reshape((1, output_meta['width']))\n",
    "        w = ((row, row+1), (None, None))\n",
    "        out_ds.write_band(1, y_pred, window = w)\n",
    "    print(\"done.\")\n",
    "finally:\n",
    "    out_ds.close()\n"
   ]
  },
  {
   "cell_type": "markdown",
   "id": "918f3732-239c-4cbb-bc1d-4afbce4820cd",
   "metadata": {},
   "source": [
    "**0 = NoData   \n",
    "1 = Fen   \n",
    "2 = Swamp   \n",
    "3 = Marsh   \n",
    "4 = Bog   \n",
    "5 = Open Water   \n",
    "6 = Forest   \n",
    "7 = Vegetated Land   \n",
    "8 = Barren Land**"
   ]
  },
  {
   "cell_type": "code",
   "execution_count": null,
   "id": "f704b3a5-1777-4c35-a348-89ba6bc33574",
   "metadata": {},
   "outputs": [],
   "source": []
  }
 ],
 "metadata": {
  "kernelspec": {
   "display_name": "Python 3 (ipykernel)",
   "language": "python",
   "name": "python3"
  },
  "language_info": {
   "codemirror_mode": {
    "name": "ipython",
    "version": 3
   },
   "file_extension": ".py",
   "mimetype": "text/x-python",
   "name": "python",
   "nbconvert_exporter": "python",
   "pygments_lexer": "ipython3",
   "version": "3.12.2"
  }
 },
 "nbformat": 4,
 "nbformat_minor": 5
}
