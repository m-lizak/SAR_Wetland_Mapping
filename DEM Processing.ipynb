{
 "cells": [
  {
   "cell_type": "markdown",
   "id": "2879f661-95ef-4ccf-84b8-f3632a079926",
   "metadata": {},
   "source": [
    "**The code below will take the CDEM, reproject it to EPSG 2958 (UTM 17N) and resample it to 30m, creating a new elevation raster in a new folder that can be used to derive other features**"
   ]
  },
  {
   "cell_type": "code",
   "execution_count": 1,
   "id": "a5d4871b-01e9-4f69-9b47-107704baaa1f",
   "metadata": {},
   "outputs": [
    {
     "name": "stdout",
     "output_type": "stream",
     "text": [
      "Creating output file that is 9137P x 8562L.\n",
      "Processing DEM.tif [1/1] : 0Using internal nodata values (e.g. -9999) for image DEM.tif.\n",
      "Copying nodata values from source DEM.tif to destination DEM Outputs/elevation.tif.\n",
      "...10...20...30...40...50...60...70...80...90...100 - done.\n",
      "\n",
      "Reprojected and resampled DEM created at: DEM Outputs/elevation.tif\n"
     ]
    }
   ],
   "source": [
    "import os\n",
    "\n",
    "# Paths\n",
    "dem_path = r'DEM.tif'\n",
    "reference_tif = r'Mosaicked and Clipped Outputs/alpha_orf_mosaicked_clip.tif'  # Provide the path to your reference GeoTIFF\n",
    "output_folder = r'DEM Outputs'\n",
    "\n",
    "# Ensure the output folder exists\n",
    "os.makedirs(output_folder, exist_ok=True)\n",
    "\n",
    "# Output path\n",
    "output_dem_path = os.path.join(output_folder, \"elevation.tif\")\n",
    "\n",
    "# Reproject the DEM to EPSG 2958, set the resolution, and align to a grid without clipping\n",
    "reproject_cmd = f'gdalwarp -s_srs EPSG:4326 -t_srs EPSG:2958 -tr 30 30 -tap -r cubic -overwrite -of GTiff \"{dem_path}\" \"{output_dem_path}\"'\n",
    "os.system(reproject_cmd)\n",
    "\n",
    "# Print message\n",
    "print(\"\\nReprojected and resampled DEM created at:\", output_dem_path)\n"
   ]
  },
  {
   "cell_type": "markdown",
   "id": "c868045e-3044-4483-84db-11b6ab948c7b",
   "metadata": {},
   "source": [
    "\n",
    "\n",
    "**Calculate Slope and Aspect**"
   ]
  },
  {
   "cell_type": "code",
   "execution_count": 2,
   "id": "05205ce1-8a70-4c45-97dc-9d135f78e436",
   "metadata": {},
   "outputs": [
    {
     "name": "stderr",
     "output_type": "stream",
     "text": [
      "/Users/maciej/miniconda3/envs/envmod/lib/python3.12/site-packages/osgeo/gdal.py:312: FutureWarning: Neither gdal.UseExceptions() nor gdal.DontUseExceptions() has been explicitly called. In GDAL 4.0, exceptions will be enabled by default.\n",
      "  warnings.warn(\n"
     ]
    },
    {
     "name": "stdout",
     "output_type": "stream",
     "text": [
      "\n",
      "SLOPE AND ASPECT RASTERS SAVED\n",
      "\n",
      "DONE!\n"
     ]
    }
   ],
   "source": [
    "from osgeo import gdal\n",
    "import os\n",
    "\n",
    "def calculate_slope_aspect(dem_path):\n",
    "    try:\n",
    "        # Extract the folder path and filename from the input DEM path\n",
    "        dem_folder, dem_filename = os.path.split(dem_path)\n",
    "\n",
    "        # Create the output folder if it doesn't exist\n",
    "        output_folder = os.path.join(dem_folder)\n",
    "        os.makedirs(output_folder, exist_ok=True)\n",
    "\n",
    "        # Paths for final output\n",
    "        slope_path = os.path.join(output_folder, \"slope.tif\")\n",
    "        aspect_path = os.path.join(output_folder, \"aspect.tif\")\n",
    "\n",
    "        # Calculate slope using gdaldem utility\n",
    "        gdal.DEMProcessing(slope_path, dem_path, 'slope', format='GTiff')\n",
    "\n",
    "        # Calculate aspect using gdaldem utility\n",
    "        gdal.DEMProcessing(aspect_path, dem_path, 'aspect', format='GTiff')\n",
    "\n",
    "        print(\"\\nSLOPE AND ASPECT RASTERS SAVED\\n\")\n",
    "\n",
    "    except Exception as e:\n",
    "        print(f\"Error: {e}\")\n",
    "\n",
    "# Specify the path to the DEM file\n",
    "dem_path = \"DEM Outputs/elevation.tif\"\n",
    "\n",
    "# Run the function\n",
    "calculate_slope_aspect(dem_path)\n",
    "\n",
    "print(\"DONE!\")\n"
   ]
  },
  {
   "cell_type": "markdown",
   "id": "ddfe7d76-79da-4d85-a91c-29819ee33e52",
   "metadata": {},
   "source": [
    "**Perform a clip operation on all .tif files in the folder**"
   ]
  },
  {
   "cell_type": "code",
   "execution_count": 7,
   "id": "f432524b-f38d-4502-b7b4-d25faa1cffaf",
   "metadata": {},
   "outputs": [
    {
     "name": "stdout",
     "output_type": "stream",
     "text": [
      "Clipping 3 rasters:\n",
      "Processed 1 of 3 files\n",
      "Processed 2 of 3 files\n",
      "Processed 3 of 3 files\n"
     ]
    }
   ],
   "source": [
    "import os\n",
    "import geopandas as gpd\n",
    "import rasterio\n",
    "from rasterio.mask import mask\n",
    "from rasterio.crs import CRS\n",
    "\n",
    "def clip_rasters_to_shapefile(input_folder, shapefile_path):\n",
    "    # Get a list of all .tif files in the input folder\n",
    "    tif_files = [f for f in os.listdir(input_folder) if f.endswith('.tif')]\n",
    "\n",
    "    total_files = len(tif_files)\n",
    "\n",
    "    print(f\"Clipping {total_files} rasters:\")\n",
    "    for i, tif_file in enumerate(tif_files):\n",
    "        input_path = os.path.join(input_folder, tif_file)\n",
    "\n",
    "        # Open the raster dataset\n",
    "        with rasterio.open(input_path) as src:\n",
    "            # Read the shapefile\n",
    "            shapefile = gpd.read_file(shapefile_path)\n",
    "            \n",
    "            # Check and set CRS if needed\n",
    "            if not shapefile.crs or shapefile.crs != CRS.from_string(src.crs.to_string()):\n",
    "                shapefile = shapefile.to_crs(src.crs)\n",
    "\n",
    "            # Get raster bounds\n",
    "            raster_bounds = src.bounds\n",
    "\n",
    "            # Clip shapefile to raster bounds\n",
    "            shapefile = shapefile.cx[raster_bounds.left:raster_bounds.right, raster_bounds.bottom:raster_bounds.top]\n",
    "\n",
    "            # Check if there are any geometries left after clipping\n",
    "            if shapefile.empty:\n",
    "                print(f\"No overlapping geometries found for {tif_file}. Skipping...\")\n",
    "                continue\n",
    "\n",
    "            shapes = shapefile.geometry.tolist()\n",
    "\n",
    "            # Clip the raster using the shapefile and set values outside shapefile boundaries to -9999\n",
    "            out_image, out_transform = mask(src, shapes, crop=True, nodata=-9999)\n",
    "\n",
    "            # Update metadata\n",
    "            out_meta = src.meta.copy()\n",
    "            out_meta.update({\"driver\": \"GTiff\",\n",
    "                             \"height\": out_image.shape[1],\n",
    "                             \"width\": out_image.shape[2],\n",
    "                             \"transform\": out_transform,\n",
    "                             \"nodata\": -9999})\n",
    "\n",
    "            # Write the clipped raster to disk\n",
    "            output_path = os.path.join(output_folder, f\"{tif_file}\")\n",
    "            with rasterio.open(output_path, \"w\", **out_meta) as dest:\n",
    "                dest.write(out_image)\n",
    "\n",
    "        # Print progress information\n",
    "        print(f\"Processed {i + 1} of {total_files} files\")\n",
    "\n",
    "if __name__ == \"__main__\":\n",
    "    # Replace these paths with your actual paths\n",
    "    input_folder = \"DEM Outputs\"\n",
    "    shapefile_path = \"Algonquin Park Shapefile/Algonquin_Park_Final.shp\"\n",
    "\n",
    "    # Run the function\n",
    "    clip_rasters_to_shapefile(input_folder, shapefile_path)\n"
   ]
  }
 ],
 "metadata": {
  "kernelspec": {
   "display_name": "Python 3 (ipykernel)",
   "language": "python",
   "name": "python3"
  },
  "language_info": {
   "codemirror_mode": {
    "name": "ipython",
    "version": 3
   },
   "file_extension": ".py",
   "mimetype": "text/x-python",
   "name": "python",
   "nbconvert_exporter": "python",
   "pygments_lexer": "ipython3",
   "version": "3.12.2"
  }
 },
 "nbformat": 4,
 "nbformat_minor": 5
}
